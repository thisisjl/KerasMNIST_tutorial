{
 "cells": [
  {
   "cell_type": "markdown",
   "metadata": {},
   "source": [
    "# MNIST 2.2. - five layers relu Learning rate decay dropout\n",
    "\n",
    "This notebook is part of the series using Keras to follow the tutorial [\"Tensorflow and deep learning - without a PhD\"](https://github.com/martin-gorner/tensorflow-mnist-tutorial). The original tensorflow implementation can be found [here](https://github.com/martin-gorner/tensorflow-mnist-tutorial/blob/master/mnist_2.2_five_layers_relu_lrdecay_dropout.py).\n",
    "\n",
    "The model consists of five fully connected layers using the sigmoid activation function for the hidden layers and a softmax activation function for the output layer:\n",
    "```\n",
    "neural network with 5 layers\n",
    "\n",
    "· · · · · · · · · ·       (input data, flattened pixels)       X [batch, 784]   # 784 = 28*28\n",
    "\\x/x\\x/x\\x/x\\x/x\\x/ ✞  -- fully connected layer (relu+dropout) W1 [784, 200]      B1[200]\n",
    " · · · · · · · · ·                                             Y1 [batch, 200]\n",
    "  \\x/x\\x/x\\x/x\\x/ ✞    -- fully connected layer (relu+dropout) W2 [200, 100]      B2[100]\n",
    "   · · · · · · ·                                               Y2 [batch, 100]\n",
    "   \\x/x\\x/x\\x/ ✞       -- fully connected layer (relu+dropout) W3 [100, 60]       B3[60]\n",
    "    · · · · ·                                                  Y3 [batch, 60]\n",
    "    \\x/x\\x/ ✞          -- fully connected layer (relu+dropout) W4 [60, 30]        B4[30]\n",
    "     · · ·                                                     Y4 [batch, 30]\n",
    "     \\x/               -- fully connected layer (softmax)      W5 [30, 10]        B5[10]\n",
    "      ·                                                        Y5 [batch, 10]\n",
    "```"
   ]
  },
  {
   "cell_type": "code",
   "execution_count": 1,
   "metadata": {
    "collapsed": false
   },
   "outputs": [
    {
     "name": "stderr",
     "output_type": "stream",
     "text": [
      "Using TensorFlow backend.\n"
     ]
    }
   ],
   "source": [
    "from keras.models import Sequential\n",
    "from keras.layers import Dense, Activation, Dropout\n",
    "\n",
    "import numpy as np\n",
    "np.random.seed(123)  # for reproducibility\n",
    "from keras.utils import np_utils\n",
    "\n",
    "from keras.optimizers import Adam"
   ]
  },
  {
   "cell_type": "markdown",
   "metadata": {},
   "source": [
    "Load and preprocess data"
   ]
  },
  {
   "cell_type": "code",
   "execution_count": 5,
   "metadata": {
    "collapsed": false
   },
   "outputs": [],
   "source": [
    "from keras.datasets import mnist\n",
    "\n",
    "# Load pre-shuffled MNIST data into train and test sets\n",
    "(X_train, y_train), (X_test, y_test) = mnist.load_data()\n",
    "\n",
    "# Preprocess input data\n",
    "X_train = X_train.reshape(X_train.shape[0], 784)\n",
    "X_test = X_test.reshape(X_test.shape[0], 784)\n",
    "\n",
    "X_train = X_train.astype('float32')\n",
    "X_test = X_test.astype('float32')\n",
    "X_train /= 255\n",
    "X_test /= 255\n",
    "\n",
    "# Preprocess class labels\n",
    "Y_train = np_utils.to_categorical(y_train, 10)\n",
    "Y_test = np_utils.to_categorical(y_test, 10)"
   ]
  },
  {
   "cell_type": "markdown",
   "metadata": {},
   "source": [
    "Define model architecture"
   ]
  },
  {
   "cell_type": "code",
   "execution_count": 2,
   "metadata": {
    "collapsed": false
   },
   "outputs": [],
   "source": [
    "pdrop = .25\n",
    "\n",
    "model = Sequential()\n",
    "model.add(Dense(200, batch_input_shape=(None, 784), activation='relu'))\n",
    "model.add(Dropout(pdrop))\n",
    "model.add(Dense(100, activation='relu'))\n",
    "model.add(Dropout(pdrop))\n",
    "model.add(Dense(60, activation='relu'))\n",
    "model.add(Dropout(pdrop))\n",
    "model.add(Dense(30, activation='relu'))\n",
    "model.add(Dropout(pdrop))\n",
    "model.add(Dense(10, activation='softmax'))"
   ]
  },
  {
   "cell_type": "markdown",
   "metadata": {},
   "source": [
    "Compile the model"
   ]
  },
  {
   "cell_type": "code",
   "execution_count": 3,
   "metadata": {
    "collapsed": false
   },
   "outputs": [],
   "source": [
    "optimizer = Adam(lr=0.003, decay=0.002)\n",
    "model.compile(loss='categorical_crossentropy',\n",
    "              optimizer=optimizer,\n",
    "              metrics=['accuracy'])"
   ]
  },
  {
   "cell_type": "markdown",
   "metadata": {},
   "source": [
    "Fit the model on training data"
   ]
  },
  {
   "cell_type": "code",
   "execution_count": 9,
   "metadata": {
    "collapsed": false
   },
   "outputs": [],
   "source": [
    "model.fit(X_train, Y_train, batch_size=1000, nb_epoch=2000, verbose=1)"
   ]
  },
  {
   "cell_type": "markdown",
   "metadata": {},
   "source": [
    "Evaluate model on test data"
   ]
  },
  {
   "cell_type": "code",
   "execution_count": null,
   "metadata": {
    "collapsed": true
   },
   "outputs": [],
   "source": [
    "score = model.evaluate(X_test, Y_test, verbose=0)"
   ]
  }
 ],
 "metadata": {
  "kernelspec": {
   "display_name": "Python 3",
   "language": "python",
   "name": "python3"
  },
  "language_info": {
   "codemirror_mode": {
    "name": "ipython",
    "version": 3
   },
   "file_extension": ".py",
   "mimetype": "text/x-python",
   "name": "python",
   "nbconvert_exporter": "python",
   "pygments_lexer": "ipython3",
   "version": "3.5.0"
  }
 },
 "nbformat": 4,
 "nbformat_minor": 0
}
