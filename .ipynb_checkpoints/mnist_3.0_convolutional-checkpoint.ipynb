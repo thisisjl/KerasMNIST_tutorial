{
 "cells": [
  {
   "cell_type": "markdown",
   "metadata": {},
   "source": [
    "# MNIST 3.0. - convolutional\n",
    "\n",
    "This notebook is part of the series using Keras to follow the tutorial [\"Tensorflow and deep learning - without a PhD\"](https://github.com/martin-gorner/tensorflow-mnist-tutorial). The original tensorflow implementation can be found [here](https://github.com/martin-gorner/tensorflow-mnist-tutorial/blob/master/mnist_3.0_convolutional.py).\n",
    "\n",
    "Neural network structure for this sample:\n",
    "\n",
    "```\n",
    "\n",
    "\n",
    " · · · · · · · · · ·    (input data, 1-deep)           X [batch, 28, 28, 1]\n",
    " @ @ @ @ @ @ @ @ @ @ -- conv. layer 5x5x1=>4 stride 1  W1 [5, 5, 1, 4]        B1 [4]\n",
    " ∶∶∶∶∶∶∶∶∶∶∶∶∶∶∶∶∶∶∶                                   Y1 [batch, 28, 28, 4]\n",
    "   @ @ @ @ @ @ @ @   -- conv. layer 5x5x4=>8 stride 2  W2 [5, 5, 4, 8]        B2 [8]\n",
    "   ∶∶∶∶∶∶∶∶∶∶∶∶∶∶∶                                     Y2 [batch, 14, 14, 8]\n",
    "     @ @ @ @ @ @     -- conv. layer 4x4x8=>12 stride 2 W3 [4, 4, 8, 12]       B3 [12]\n",
    "     ∶∶∶∶∶∶∶∶∶∶∶                                       Y3 [batch, 7, 7, 12] \n",
    "                                                          => reshaped to YY [batch, 7*7*12]\n",
    "      \\x/x\\x\\x/      -- fully connected layer (relu)   W4 [7*7*12, 200]       B4 [200]\n",
    "       · · · ·                                         Y4 [batch, 200]\n",
    "       \\x/x\\x/       -- fully connected layer (softmax)W5 [200, 10]           B5 [10]\n",
    "        · · ·                                          Y [batch, 20]\n",
    "```"
   ]
  },
  {
   "cell_type": "code",
   "execution_count": 1,
   "metadata": {
    "collapsed": false
   },
   "outputs": [
    {
     "name": "stderr",
     "output_type": "stream",
     "text": [
      "Using TensorFlow backend.\n"
     ]
    }
   ],
   "source": [
    "from keras.models import Sequential\n",
    "from keras.layers import Dense, Activation, Dropout, Convolution2D, Reshape\n",
    "\n",
    "import numpy as np\n",
    "np.random.seed(123)  # for reproducibility\n",
    "from keras.utils import np_utils\n",
    "\n",
    "from keras.optimizers import Adam"
   ]
  },
  {
   "cell_type": "markdown",
   "metadata": {},
   "source": [
    "Load and preprocess data"
   ]
  },
  {
   "cell_type": "code",
   "execution_count": 2,
   "metadata": {
    "collapsed": false
   },
   "outputs": [],
   "source": [
    "from keras.datasets import mnist\n",
    "\n",
    "# Load pre-shuffled MNIST data into train and test sets\n",
    "(X_train, y_train), (X_test, y_test) = mnist.load_data()\n",
    "\n",
    "# Preprocess input data\n",
    "X_train = X_train.reshape(X_train.shape[0], 28, 28, 1)\n",
    "X_test = X_test.reshape(X_test.shape[0], 28, 28, 1)\n",
    "\n",
    "X_train = X_train.astype('float32')\n",
    "X_test = X_test.astype('float32')\n",
    "X_train /= 255\n",
    "X_test /= 255\n",
    "\n",
    "# Preprocess class labels\n",
    "Y_train = np_utils.to_categorical(y_train, 10)\n",
    "Y_test = np_utils.to_categorical(y_test, 10)"
   ]
  },
  {
   "cell_type": "markdown",
   "metadata": {},
   "source": [
    "Define model architecture"
   ]
  },
  {
   "cell_type": "code",
   "execution_count": 9,
   "metadata": {
    "collapsed": false
   },
   "outputs": [],
   "source": [
    "K = 4   # first convolutional layer output depth\n",
    "L = 8   # second convolutional layer output depth\n",
    "M = 12  # third convolutional layer\n",
    "N = 200 # fully connected layer\n",
    "\n",
    "model = Sequential()\n",
    "\n",
    "stride = 1\n",
    "model.add(Convolution2D(K, 5, 5, border_mode='same', input_shape=(28, 28, 1), activation='relu', \n",
    "                        subsample = (stride,stride)))\n",
    "stride = 2\n",
    "model.add(Convolution2D(L, 5, 5, border_mode='same', activation='relu', subsample = (stride,stride)))\n",
    "stride = 2\n",
    "model.add(Convolution2D(M, 4, 4, border_mode='same', activation='relu', subsample = (stride,stride)))\n",
    "model.add(Reshape((7*7*M,)))\n",
    "model.add(Dense(N, activation='relu'))\n",
    "model.add(Dense(10, activation='softmax'))"
   ]
  },
  {
   "cell_type": "markdown",
   "metadata": {},
   "source": [
    "Compile the model"
   ]
  },
  {
   "cell_type": "code",
   "execution_count": 5,
   "metadata": {
    "collapsed": false
   },
   "outputs": [],
   "source": [
    "optimizer = Adam(lr=0.003, decay=0.002)\n",
    "model.compile(loss='categorical_crossentropy',\n",
    "              optimizer=optimizer,\n",
    "              metrics=['accuracy'])"
   ]
  },
  {
   "cell_type": "markdown",
   "metadata": {},
   "source": [
    "Fit the model on training data"
   ]
  },
  {
   "cell_type": "code",
   "execution_count": 7,
   "metadata": {
    "collapsed": false
   },
   "outputs": [],
   "source": [
    "model.fit(X_train, Y_train, batch_size=1000, nb_epoch=2000, verbose=1)"
   ]
  },
  {
   "cell_type": "markdown",
   "metadata": {},
   "source": [
    "Evaluate model on test data"
   ]
  },
  {
   "cell_type": "code",
   "execution_count": null,
   "metadata": {
    "collapsed": true
   },
   "outputs": [],
   "source": [
    "score = model.evaluate(X_test, Y_test, verbose=0)"
   ]
  }
 ],
 "metadata": {
  "kernelspec": {
   "display_name": "Python 3",
   "language": "python",
   "name": "python3"
  },
  "language_info": {
   "codemirror_mode": {
    "name": "ipython",
    "version": 3
   },
   "file_extension": ".py",
   "mimetype": "text/x-python",
   "name": "python",
   "nbconvert_exporter": "python",
   "pygments_lexer": "ipython3",
   "version": "3.5.0"
  }
 },
 "nbformat": 4,
 "nbformat_minor": 0
}
